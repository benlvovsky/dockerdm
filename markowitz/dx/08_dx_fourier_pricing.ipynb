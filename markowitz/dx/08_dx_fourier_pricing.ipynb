{
 "cells": [
  {
   "cell_type": "markdown",
   "metadata": {},
   "source": [
    "<img src=\"http://hilpisch.com/tpq_logo.png\" alt=\"The Python Quants\" width=\"45%\" align=\"right\" border=\"4\">"
   ]
  },
  {
   "cell_type": "markdown",
   "metadata": {},
   "source": [
    "# Fourier-based Option Pricing"
   ]
  },
  {
   "cell_type": "markdown",
   "metadata": {},
   "source": [
    "For several reasons, it is beneficial to have available alternative valuation and pricing approaches to the Monte Carlo simulation approach. One application area is to **benchmark Monte Carlo-based valuation results** against other (potentially more accurate) results. Another area is **model calibration to liquidly traded vanilla instruments** where generally faster numerial methods can be applied.\n",
    "\n",
    "This part introduces **Fouried-based valuation functions** and benchmarks valuation results from the \"standard\", simulation-based DX Analytics modeling approach to output of those functions. "
   ]
  },
  {
   "cell_type": "code",
   "execution_count": 1,
   "metadata": {
    "collapsed": false
   },
   "outputs": [],
   "source": [
    "import dx\n",
    "import datetime as dt"
   ]
  },
  {
   "cell_type": "markdown",
   "metadata": {},
   "source": [
    "## Risk Factors"
   ]
  },
  {
   "cell_type": "markdown",
   "metadata": {},
   "source": [
    "The examples and benchmarks to follow rely on four different models:\n",
    "\n",
    "* geometric Brownian motion (Black-Scholes-Merton 1973)\n",
    "* jump diffusion (Merton 1976)\n",
    "* stochastic volatility (Heston 1993)\n",
    "* stochastic volatility jump diffusion (Bates 1996)\n",
    "\n",
    "For details on these models and the Fourier-based option pricing approach refer to Hilpisch (2015) (cf. http://eu.wiley.com/WileyCDA/WileyTitle/productCd-1119037999.html).\n",
    "\n",
    "We first define the single **market and valuation environments**."
   ]
  },
  {
   "cell_type": "code",
   "execution_count": 2,
   "metadata": {
    "collapsed": false
   },
   "outputs": [],
   "source": [
    "# constant short rate\n",
    "r = dx.constant_short_rate('r', 0.01)"
   ]
  },
  {
   "cell_type": "code",
   "execution_count": 3,
   "metadata": {
    "collapsed": false
   },
   "outputs": [],
   "source": [
    "# geometric Brownian motion\n",
    "me = dx.market_environment('me', dt.datetime(2015, 1, 1))\n",
    "me.add_constant('initial_value', 100.)\n",
    "me.add_constant('volatility', 0.2)\n",
    "me.add_constant('final_date', dt.datetime(2015, 12, 31))\n",
    "me.add_constant('currency', 'EUR')"
   ]
  },
  {
   "cell_type": "code",
   "execution_count": 4,
   "metadata": {
    "collapsed": false
   },
   "outputs": [],
   "source": [
    "# jump component\n",
    "me.add_constant('lambda', 0.4)\n",
    "me.add_constant('mu', -0.6)\n",
    "me.add_constant('delta', 0.2)"
   ]
  },
  {
   "cell_type": "code",
   "execution_count": 5,
   "metadata": {
    "collapsed": false
   },
   "outputs": [],
   "source": [
    "# stochastic volatiltiy component\n",
    "me.add_constant('rho', -.5)\n",
    "me.add_constant('kappa', 5.0)\n",
    "me.add_constant('theta', 0.02)\n",
    "me.add_constant('vol_vol', 0.3)"
   ]
  },
  {
   "cell_type": "code",
   "execution_count": 6,
   "metadata": {
    "collapsed": false
   },
   "outputs": [],
   "source": [
    "# valuation environment\n",
    "val_env = dx.market_environment('val_env', dt.datetime(2015, 1, 1))\n",
    "val_env.add_constant('paths', 55000)\n",
    "    # 25,000 paths\n",
    "val_env.add_constant('frequency', 'D')\n",
    "    # weekly frequency\n",
    "val_env.add_curve('discount_curve', r)\n",
    "val_env.add_constant('starting_date', dt.datetime(2015, 1, 1))\n",
    "val_env.add_constant('final_date', dt.datetime(2015, 12, 31))"
   ]
  },
  {
   "cell_type": "code",
   "execution_count": 7,
   "metadata": {
    "collapsed": false
   },
   "outputs": [],
   "source": [
    "# add valuation environment to market environment\n",
    "me.add_environment(val_env)"
   ]
  },
  {
   "cell_type": "markdown",
   "metadata": {},
   "source": [
    "Equipped with the single market environments and the valuation environment, we can instantiate the **simulation model objects**."
   ]
  },
  {
   "cell_type": "code",
   "execution_count": 8,
   "metadata": {
    "collapsed": false
   },
   "outputs": [],
   "source": [
    "gbm = dx.geometric_brownian_motion('gbm', me)"
   ]
  },
  {
   "cell_type": "code",
   "execution_count": 9,
   "metadata": {
    "collapsed": false
   },
   "outputs": [],
   "source": [
    "jd = dx.jump_diffusion('jd', me)"
   ]
  },
  {
   "cell_type": "code",
   "execution_count": 10,
   "metadata": {
    "collapsed": false
   },
   "outputs": [],
   "source": [
    "sv = dx.stochastic_volatility('sv', me)"
   ]
  },
  {
   "cell_type": "code",
   "execution_count": 11,
   "metadata": {
    "collapsed": false
   },
   "outputs": [],
   "source": [
    "svjd = dx.stoch_vol_jump_diffusion('svjd', me)"
   ]
  },
  {
   "cell_type": "markdown",
   "metadata": {},
   "source": [
    "## Plain Vanilla Put and Call Options"
   ]
  },
  {
   "cell_type": "markdown",
   "metadata": {},
   "source": [
    "Based on the just defined risk factors, we define 8 diffent options---a **European put and call option per risk factor**, respectively."
   ]
  },
  {
   "cell_type": "code",
   "execution_count": 12,
   "metadata": {
    "collapsed": false
   },
   "outputs": [],
   "source": [
    "# market environment for the options\n",
    "me_option = dx.market_environment('option', dt.datetime(2015, 1, 1))\n",
    "me_option.add_constant('maturity', dt.datetime(2015, 12, 31))\n",
    "me_option.add_constant('strike', 100.)\n",
    "me_option.add_constant('currency', 'EUR')\n",
    "me_option.add_environment(me)\n",
    "me_option.add_environment(val_env)"
   ]
  },
  {
   "cell_type": "code",
   "execution_count": 13,
   "metadata": {
    "collapsed": false
   },
   "outputs": [],
   "source": [
    "euro_put_gbm = dx.valuation_mcs_european_single('euro_put', gbm, me_option,\n",
    "                                  'np.maximum(strike - maturity_value, 0)')\n",
    "euro_call_gbm = dx.valuation_mcs_european_single('euro_call', gbm, me_option,\n",
    "                                  'np.maximum(maturity_value - strike, 0)')"
   ]
  },
  {
   "cell_type": "code",
   "execution_count": 14,
   "metadata": {
    "collapsed": false
   },
   "outputs": [],
   "source": [
    "euro_put_jd = dx.valuation_mcs_european_single('euro_put', jd, me_option,\n",
    "                                  'np.maximum(strike - maturity_value, 0)')\n",
    "euro_call_jd = dx.valuation_mcs_european_single('euro_call', jd, me_option,\n",
    "                                  'np.maximum(maturity_value - strike, 0)')"
   ]
  },
  {
   "cell_type": "code",
   "execution_count": 15,
   "metadata": {
    "collapsed": false
   },
   "outputs": [],
   "source": [
    "euro_put_sv = dx.valuation_mcs_european_single('euro_put', sv, me_option,\n",
    "                                  'np.maximum(strike - maturity_value, 0)')\n",
    "euro_call_sv = dx.valuation_mcs_european_single('euro_call', sv, me_option,\n",
    "                                  'np.maximum(maturity_value - strike, 0)')"
   ]
  },
  {
   "cell_type": "code",
   "execution_count": 16,
   "metadata": {
    "collapsed": false
   },
   "outputs": [],
   "source": [
    "euro_put_svjd = dx.valuation_mcs_european_single('euro_put', svjd, me_option,\n",
    "                                  'np.maximum(strike - maturity_value, 0)')\n",
    "euro_call_svjd = dx.valuation_mcs_european_single('euro_call', svjd, me_option,\n",
    "                                  'np.maximum(maturity_value - strike, 0)')"
   ]
  },
  {
   "cell_type": "markdown",
   "metadata": {},
   "source": [
    "## Valuation Benchmarking"
   ]
  },
  {
   "cell_type": "markdown",
   "metadata": {},
   "source": [
    "In this sub-section, we benchmark the **Monte Carlo value estimates** against the **Fourier-based pricing results**."
   ]
  },
  {
   "cell_type": "code",
   "execution_count": 17,
   "metadata": {
    "collapsed": false
   },
   "outputs": [],
   "source": [
    "import numpy as np\n",
    "import pandas as pd"
   ]
  },
  {
   "cell_type": "markdown",
   "metadata": {},
   "source": [
    "We first define some parameters used throughout."
   ]
  },
  {
   "cell_type": "code",
   "execution_count": 18,
   "metadata": {
    "collapsed": false
   },
   "outputs": [],
   "source": [
    "freq = '2m'  # used for maturity definitions\n",
    "periods = 3  # number of intervals for maturity grid\n",
    "strikes = 5  # number of strikes per maturity\n",
    "initial_value = 100  # initial value for all risk factors\n",
    "start = 0.8  # lowest strike in percent of spot\n",
    "end = 1.2  # highest strike in percent of spot\n",
    "start_date = '2015/3/1'  # start date for simulation/pricing"
   ]
  },
  {
   "cell_type": "markdown",
   "metadata": {},
   "source": [
    "### Geometric Brownian Motion"
   ]
  },
  {
   "cell_type": "markdown",
   "metadata": {},
   "source": [
    "We need to initialize the valuation object first."
   ]
  },
  {
   "cell_type": "code",
   "execution_count": 19,
   "metadata": {
    "collapsed": false
   },
   "outputs": [
    {
     "data": {
      "text/plain": [
       "7.3972249999999997"
      ]
     },
     "execution_count": 19,
     "metadata": {},
     "output_type": "execute_result"
    }
   ],
   "source": [
    "euro_put_gbm.present_value()\n",
    "  # method call needed for initialization"
   ]
  },
  {
   "cell_type": "markdown",
   "metadata": {},
   "source": [
    "There is a **valuation class for European put and call options in the Black-Scholes-Merton model** available called `BSM_european_option`. It is based on the analytical pricing formula for that model and is instantiated as follows:"
   ]
  },
  {
   "cell_type": "code",
   "execution_count": 20,
   "metadata": {
    "collapsed": false
   },
   "outputs": [],
   "source": [
    "bsm_option = dx.BSM_european_option('bsm_opt', me_option)"
   ]
  },
  {
   "cell_type": "markdown",
   "metadata": {},
   "source": [
    "The following routine benchmarks the Monte Carlo value estimates for the **European put option** against the output from the valuation object based on the analytical pricing formula. The results are quite good since this model is quite easy to discretize exactly and therefore generally shows good convergence of the Monte Carlo estimates."
   ]
  },
  {
   "cell_type": "code",
   "execution_count": 23,
   "metadata": {
    "collapsed": false
   },
   "outputs": [
    {
     "name": "stdout",
     "output_type": "stream",
     "text": [
      "   T  |  strike |     mcs |     fou |     dif |     rel\n",
      "0.244 |  80.000 |  0.0342 |  0.0338 |  0.0004 |    1.20 \n",
      "0.244 |  90.000 |  0.6324 |  0.6524 | -0.0200 |   -3.07 \n",
      "0.244 | 100.000 |  3.7639 |  3.8130 | -0.0491 |   -1.29 \n",
      "0.244 | 110.000 | 10.6283 | 10.6957 | -0.0674 |   -0.63 \n",
      "0.244 | 120.000 | 19.7036 | 19.8537 | -0.1501 |   -0.76 \n",
      "0.411 |  80.000 |  0.1765 |  0.1748 |  0.0017 |    0.99 \n",
      "0.411 |  90.000 |  1.2933 |  1.3241 | -0.0308 |   -2.33 \n",
      "0.411 | 100.000 |  4.8694 |  4.8985 | -0.0291 |   -0.59 \n",
      "0.411 | 110.000 | 11.3617 | 11.4275 | -0.0659 |   -0.58 \n",
      "0.411 | 120.000 | 19.9077 | 20.0325 | -0.1248 |   -0.62 \n",
      "0.578 |  80.000 |  0.3974 |  0.3917 |  0.0057 |    1.44 \n",
      "0.578 |  90.000 |  1.9205 |  1.9466 | -0.0261 |   -1.34 \n",
      "0.578 | 100.000 |  5.7326 |  5.7593 | -0.0267 |   -0.46 \n",
      "0.578 | 110.000 | 12.0342 | 12.0934 | -0.0592 |   -0.49 \n",
      "0.578 | 120.000 | 20.2201 | 20.3153 | -0.0952 |   -0.47 \n",
      "CPU times: user 11.9 s, sys: 4.19 s, total: 16.1 s\n",
      "Wall time: 16.2 s\n"
     ]
    }
   ],
   "source": [
    "%%time\n",
    "# European put\n",
    "print('%4s  | %7s | %7s | %7s | %7s | %7s' % ('T', 'strike', 'mcs', 'fou', 'dif', 'rel'))\n",
    "for maturity in pd.date_range(start=start_date, freq=freq, periods=periods):\n",
    "    bsm_option.maturity = maturity\n",
    "    euro_put_gbm.update(maturity=maturity)\n",
    "    for strike in np.linspace(start, end, strikes) * initial_value:\n",
    "        T = (maturity - me_option.pricing_date).days / 365.\n",
    "        euro_put_gbm.update(strike=strike)\n",
    "        mcs = euro_put_gbm.present_value()\n",
    "        bsm_option.strike = strike\n",
    "        ana = bsm_option.put_value()\n",
    "        print('%4.3f | %7.3f | %7.4f | %7.4f | %7.4f | %7.2f '\n",
    "                % (T, strike, mcs, ana, mcs - ana, (mcs - ana) / ana * 100))"
   ]
  },
  {
   "cell_type": "markdown",
   "metadata": {},
   "source": [
    "The same now for the **European call option**."
   ]
  },
  {
   "cell_type": "code",
   "execution_count": 24,
   "metadata": {
    "collapsed": false
   },
   "outputs": [
    {
     "data": {
      "text/plain": [
       "8.4449520000000007"
      ]
     },
     "execution_count": 24,
     "metadata": {},
     "output_type": "execute_result"
    }
   ],
   "source": [
    "euro_call_gbm.present_value()\n",
    "  # method call needed for initialization"
   ]
  },
  {
   "cell_type": "code",
   "execution_count": 25,
   "metadata": {
    "collapsed": false
   },
   "outputs": [
    {
     "name": "stdout",
     "output_type": "stream",
     "text": [
      "   T  |  strike |     mcs |     fou |     dif |     rel\n",
      "0.244 |  80.000 | 20.0746 | 20.2286 | -0.1540 |   -0.76 \n",
      "0.244 |  90.000 | 10.8005 | 10.8716 | -0.0712 |   -0.65 \n",
      "0.244 | 100.000 |  4.0445 |  4.0565 | -0.0120 |   -0.30 \n",
      "0.244 | 110.000 |  0.9643 |  0.9636 |  0.0008 |    0.08 \n",
      "0.244 | 120.000 |  0.1444 |  0.1460 | -0.0016 |   -1.10 \n",
      "0.411 |  80.000 | 20.3867 | 20.5029 | -0.1162 |   -0.57 \n",
      "0.411 |  90.000 | 11.6013 | 11.6932 | -0.0919 |   -0.79 \n",
      "0.411 | 100.000 |  5.2563 |  5.3086 | -0.0524 |   -0.99 \n",
      "0.411 | 110.000 |  1.8634 |  1.8787 | -0.0153 |   -0.81 \n",
      "0.411 | 120.000 |  0.5086 |  0.5246 | -0.0160 |   -3.06 \n",
      "0.578 |  80.000 | 20.7657 | 20.8528 | -0.0871 |   -0.42 \n",
      "0.578 |  90.000 | 12.4304 | 12.4654 | -0.0350 |   -0.28 \n",
      "0.578 | 100.000 |  6.2735 |  6.3357 | -0.0622 |   -0.98 \n",
      "0.578 | 110.000 |  2.7331 |  2.7274 |  0.0056 |    0.21 \n",
      "0.578 | 120.000 |  1.0001 |  1.0070 | -0.0069 |   -0.68 \n",
      "CPU times: user 11.8 s, sys: 4.15 s, total: 16 s\n",
      "Wall time: 16 s\n"
     ]
    }
   ],
   "source": [
    "%%time\n",
    "# European calls\n",
    "print('%4s  | %7s | %7s | %7s | %7s | %7s' % ('T', 'strike', 'mcs', 'fou', 'dif', 'rel'))\n",
    "for maturity in pd.date_range(start=start_date, freq=freq, periods=periods):\n",
    "    euro_call_gbm.update(maturity=maturity)\n",
    "    for strike in np.linspace(start, end, strikes) * initial_value:\n",
    "        T = (maturity - me_option.pricing_date).days / 365.\n",
    "        euro_call_gbm.update(strike=strike)\n",
    "        mcs = euro_call_gbm.present_value()\n",
    "        bsm_option.strike = strike\n",
    "        bsm_option.maturity = maturity\n",
    "        ana = bsm_option.call_value()\n",
    "        print('%4.3f | %7.3f | %7.4f | %7.4f | %7.4f | %7.2f ' \\\n",
    "                % (T, strike, mcs, ana, mcs - ana, (mcs - ana) / ana * 100))"
   ]
  },
  {
   "cell_type": "markdown",
   "metadata": {},
   "source": [
    "### Benchmarking Function"
   ]
  },
  {
   "cell_type": "markdown",
   "metadata": {},
   "source": [
    "All other valuation benchmarks are generated with **Fourier-based pricing functions** for which the handling is identical. We therefore use the following function for the benchmarks from now on:"
   ]
  },
  {
   "cell_type": "code",
   "execution_count": 26,
   "metadata": {
    "collapsed": false
   },
   "outputs": [],
   "source": [
    "def valuation_benchmarking(valuation_object, fourier_function):\n",
    "    print('%4s  | %7s | %7s | %7s | %7s | %7s' % ('T', 'strike', 'mcs', 'fou', 'dif', 'rel'))\n",
    "    for maturity in pd.date_range(start=start_date, freq=freq, periods=periods):\n",
    "        valuation_object.update(maturity=maturity)\n",
    "        me_option.add_constant('maturity', maturity)\n",
    "        for strike in np.linspace(start, end, strikes) * initial_value:\n",
    "            T = (maturity - me_option.pricing_date).days / 365.\n",
    "            valuation_object.update(strike=strike)\n",
    "            mcs = valuation_object.present_value()\n",
    "            me_option.add_constant('strike', strike)\n",
    "            fou = fourier_function(me_option)\n",
    "            print('%4.3f | %7.3f | %7.4f | %7.4f | %7.4f | %7.3f '\n",
    "                % (T, strike, mcs, fou, mcs - fou, (mcs - fou) / fou * 100))"
   ]
  },
  {
   "cell_type": "markdown",
   "metadata": {},
   "source": [
    "### Jump Diffusion"
   ]
  },
  {
   "cell_type": "markdown",
   "metadata": {},
   "source": [
    "The next model is the jump diffusion as proposed by **Merton (1976)**."
   ]
  },
  {
   "cell_type": "code",
   "execution_count": 27,
   "metadata": {
    "collapsed": false
   },
   "outputs": [
    {
     "data": {
      "text/plain": [
       "14.086788"
      ]
     },
     "execution_count": 27,
     "metadata": {},
     "output_type": "execute_result"
    }
   ],
   "source": [
    "euro_put_jd.present_value()\n",
    "  # method call needed for initialization"
   ]
  },
  {
   "cell_type": "markdown",
   "metadata": {},
   "source": [
    "There is a Fourier-based pricing function available which is called `M76_put_value` and which is used for the benchmarking for the **European put options** that follows."
   ]
  },
  {
   "cell_type": "code",
   "execution_count": 28,
   "metadata": {
    "collapsed": false
   },
   "outputs": [
    {
     "name": "stdout",
     "output_type": "stream",
     "text": [
      "   T  |  strike |     mcs |     fou |     dif |     rel\n",
      "0.244 |  80.000 |  2.1509 |  2.1594 | -0.0085 |  -0.394 \n",
      "0.244 |  90.000 |  3.2076 |  3.2826 | -0.0750 |  -2.285 \n",
      "0.244 | 100.000 |  5.8238 |  5.8842 | -0.0604 |  -1.027 \n",
      "0.244 | 110.000 | 11.5824 | 11.6115 | -0.0291 |  -0.251 \n",
      "0.244 | 120.000 | 19.9121 | 20.0857 | -0.1736 |  -0.864 \n",
      "0.411 |  80.000 |  3.4752 |  3.4505 |  0.0246 |   0.714 \n",
      "0.411 |  90.000 |  5.1951 |  5.2162 | -0.0212 |  -0.406 \n",
      "0.411 | 100.000 |  8.1517 |  8.2266 | -0.0749 |  -0.910 \n",
      "0.411 | 110.000 | 13.3146 | 13.4430 | -0.1283 |  -0.955 \n",
      "0.411 | 120.000 | 20.9894 | 20.9238 |  0.0656 |   0.313 \n",
      "0.578 |  80.000 |  4.5710 |  4.6090 | -0.0379 |  -0.823 \n",
      "0.578 |  90.000 |  6.8914 |  6.8782 |  0.0132 |   0.192 \n",
      "0.578 | 100.000 | 10.1158 | 10.2077 | -0.0918 |  -0.900 \n",
      "0.578 | 110.000 | 15.1332 | 15.2251 | -0.0919 |  -0.603 \n",
      "0.578 | 120.000 | 21.8842 | 22.0886 | -0.2044 |  -0.925 \n",
      "CPU times: user 30.9 s, sys: 7.95 s, total: 38.9 s\n",
      "Wall time: 38.9 s\n"
     ]
    }
   ],
   "source": [
    "%time valuation_benchmarking(euro_put_jd, dx.M76_put_value)"
   ]
  },
  {
   "cell_type": "markdown",
   "metadata": {},
   "source": [
    "Accordingly, the benchmarking for the **European call options** based on the Fourier-based `M76_call_value` function."
   ]
  },
  {
   "cell_type": "code",
   "execution_count": 29,
   "metadata": {
    "collapsed": false
   },
   "outputs": [
    {
     "data": {
      "text/plain": [
       "15.26394"
      ]
     },
     "execution_count": 29,
     "metadata": {},
     "output_type": "execute_result"
    }
   ],
   "source": [
    "euro_call_jd.present_value()\n",
    "  # method call needed for initialization"
   ]
  },
  {
   "cell_type": "code",
   "execution_count": 30,
   "metadata": {
    "collapsed": false
   },
   "outputs": [
    {
     "name": "stdout",
     "output_type": "stream",
     "text": [
      "   T  |  strike |     mcs |     fou |     dif |     rel\n",
      "0.244 |  80.000 | 22.1613 | 22.3543 | -0.1930 |  -0.863 \n",
      "0.244 |  90.000 | 13.4239 | 13.5018 | -0.0779 |  -0.577 \n",
      "0.244 | 100.000 |  6.0817 |  6.1277 | -0.0461 |  -0.752 \n",
      "0.244 | 110.000 |  1.8642 |  1.8794 | -0.0152 |  -0.810 \n",
      "0.244 | 120.000 |  0.3709 |  0.3780 | -0.0071 |  -1.883 \n",
      "0.411 |  80.000 | 23.6690 | 23.7786 | -0.1096 |  -0.461 \n",
      "0.411 |  90.000 | 15.4621 | 15.5853 | -0.1232 |  -0.791 \n",
      "0.411 | 100.000 |  8.5904 |  8.6367 | -0.0463 |  -0.536 \n",
      "0.411 | 110.000 |  3.8565 |  3.8941 | -0.0376 |  -0.966 \n",
      "0.411 | 120.000 |  1.4193 |  1.4160 |  0.0034 |   0.237 \n",
      "0.578 |  80.000 | 25.0050 | 25.0701 | -0.0651 |  -0.260 \n",
      "0.578 |  90.000 | 17.3103 | 17.3970 | -0.0866 |  -0.498 \n",
      "0.578 | 100.000 | 10.7212 | 10.7841 | -0.0629 |  -0.583 \n",
      "0.578 | 110.000 |  5.8511 |  5.8591 | -0.0080 |  -0.137 \n",
      "0.578 | 120.000 |  2.8486 |  2.7803 |  0.0683 |   2.456 \n",
      "CPU times: user 29.5 s, sys: 7.7 s, total: 37.2 s\n",
      "Wall time: 37.2 s\n"
     ]
    }
   ],
   "source": [
    "%time valuation_benchmarking(euro_call_jd, dx.M76_call_value)"
   ]
  },
  {
   "cell_type": "markdown",
   "metadata": {},
   "source": [
    "### Stochastic Volatility"
   ]
  },
  {
   "cell_type": "markdown",
   "metadata": {},
   "source": [
    "Stochastic volatility models like the one of **Heston (1993)** are popular to reproduce implied volatility smiles observed in markets. First, the benchmarking for the **European put options** using the Fourier-based `H93_put_value` function."
   ]
  },
  {
   "cell_type": "code",
   "execution_count": 31,
   "metadata": {
    "collapsed": false
   },
   "outputs": [
    {
     "data": {
      "text/plain": [
       "5.295121"
      ]
     },
     "execution_count": 31,
     "metadata": {},
     "output_type": "execute_result"
    }
   ],
   "source": [
    "euro_put_sv.present_value()\n",
    "  # method call needed for initialization"
   ]
  },
  {
   "cell_type": "code",
   "execution_count": 32,
   "metadata": {
    "collapsed": false
   },
   "outputs": [
    {
     "name": "stdout",
     "output_type": "stream",
     "text": [
      "   T  |  strike |     mcs |     fou |     dif |     rel\n",
      "0.244 |  80.000 |  0.0462 |  0.0504 | -0.0043 |  -8.475 \n",
      "0.244 |  90.000 |  0.5498 |  0.5741 | -0.0243 |  -4.226 \n",
      "0.244 | 100.000 |  3.2687 |  3.3204 | -0.0517 |  -1.558 \n",
      "0.244 | 110.000 | 10.1351 | 10.2404 | -0.1053 |  -1.029 \n",
      "0.244 | 120.000 | 19.5833 | 19.7354 | -0.1520 |  -0.770 \n",
      "0.411 |  80.000 |  0.1439 |  0.1603 | -0.0164 | -10.248 \n",
      "0.411 |  90.000 |  0.9533 |  1.0063 | -0.0530 |  -5.262 \n",
      "0.411 | 100.000 |  3.9243 |  4.0234 | -0.0991 |  -2.462 \n",
      "0.411 | 110.000 | 10.4343 | 10.5487 | -0.1145 |  -1.085 \n",
      "0.411 | 120.000 | 19.4981 | 19.6293 | -0.1311 |  -0.668 \n",
      "0.578 |  80.000 |  0.2591 |  0.2838 | -0.0248 |  -8.731 \n",
      "0.578 |  90.000 |  1.2537 |  1.3631 | -0.1094 |  -8.025 \n",
      "0.578 | 100.000 |  4.3855 |  4.5467 | -0.1612 |  -3.545 \n",
      "0.578 | 110.000 | 10.7099 | 10.8389 | -0.1289 |  -1.190 \n",
      "0.578 | 120.000 | 19.4509 | 19.5767 | -0.1258 |  -0.643 \n",
      "CPU times: user 31.9 s, sys: 10.6 s, total: 42.5 s\n",
      "Wall time: 41.5 s\n"
     ]
    }
   ],
   "source": [
    "%time valuation_benchmarking(euro_put_sv, dx.H93_put_value)"
   ]
  },
  {
   "cell_type": "markdown",
   "metadata": {},
   "source": [
    "Second, the benchmarking for the **European call options** based on the Fourier-based `H93_call_value` function."
   ]
  },
  {
   "cell_type": "code",
   "execution_count": 33,
   "metadata": {
    "collapsed": false
   },
   "outputs": [
    {
     "data": {
      "text/plain": [
       "6.290438"
      ]
     },
     "execution_count": 33,
     "metadata": {},
     "output_type": "execute_result"
    }
   ],
   "source": [
    "euro_call_sv.present_value()\n",
    "  # method call needed for initialization"
   ]
  },
  {
   "cell_type": "code",
   "execution_count": 34,
   "metadata": {
    "collapsed": false
   },
   "outputs": [
    {
     "name": "stdout",
     "output_type": "stream",
     "text": [
      "   T  |  strike |     mcs |     fou |     dif |     rel\n",
      "0.244 |  80.000 | 20.0896 | 20.2453 | -0.1557 |  -0.769 \n",
      "0.244 |  90.000 | 10.6895 | 10.7933 | -0.1038 |  -0.962 \n",
      "0.244 | 100.000 |  3.4948 |  3.5639 | -0.0691 |  -1.940 \n",
      "0.244 | 110.000 |  0.4776 |  0.5083 | -0.0307 |  -6.040 \n",
      "0.244 | 120.000 |  0.0256 |  0.0276 | -0.0020 |  -7.393 \n",
      "0.411 |  80.000 | 20.3614 | 20.4884 | -0.1270 |  -0.620 \n",
      "0.411 |  90.000 | 11.2549 | 11.3754 | -0.1205 |  -1.059 \n",
      "0.411 | 100.000 |  4.3531 |  4.4335 | -0.0804 |  -1.813 \n",
      "0.411 | 110.000 |  0.9339 |  0.9998 | -0.0659 |  -6.594 \n",
      "0.411 | 120.000 |  0.1050 |  0.1214 | -0.0164 | -13.469 \n",
      "0.578 |  80.000 | 20.6332 | 20.7450 | -0.1118 |  -0.539 \n",
      "0.578 |  90.000 | 11.7528 | 11.8818 | -0.1291 |  -1.086 \n",
      "0.578 | 100.000 |  4.9477 |  5.1231 | -0.1754 |  -3.424 \n",
      "0.578 | 110.000 |  1.3431 |  1.4729 | -0.1298 |  -8.816 \n",
      "0.578 | 120.000 |  0.2358 |  0.2684 | -0.0326 | -12.144 \n",
      "CPU times: user 32.2 s, sys: 10.7 s, total: 42.9 s\n",
      "Wall time: 41.9 s\n"
     ]
    }
   ],
   "source": [
    "%time valuation_benchmarking(euro_call_sv, dx.H93_call_value)"
   ]
  },
  {
   "cell_type": "markdown",
   "metadata": {},
   "source": [
    "### Stochastic Volatility Jump-Diffusion"
   ]
  },
  {
   "cell_type": "markdown",
   "metadata": {},
   "source": [
    "Finally, we consider the combination of the stochastic volatility and jump diffusion models from before as proposed by **Bates (1996)**. The Fourier-based pricing function for **European put options** is called `B96_put_value`."
   ]
  },
  {
   "cell_type": "code",
   "execution_count": 35,
   "metadata": {
    "collapsed": false
   },
   "outputs": [
    {
     "data": {
      "text/plain": [
       "13.013221"
      ]
     },
     "execution_count": 35,
     "metadata": {},
     "output_type": "execute_result"
    }
   ],
   "source": [
    "euro_put_svjd.present_value()\n",
    "  # method call needed for initialization"
   ]
  },
  {
   "cell_type": "code",
   "execution_count": 36,
   "metadata": {
    "collapsed": false
   },
   "outputs": [
    {
     "name": "stdout",
     "output_type": "stream",
     "text": [
      "   T  |  strike |     mcs |     fou |     dif |     rel\n",
      "0.244 |  80.000 |  2.1539 |  2.1638 | -0.0099 |  -0.460 \n",
      "0.244 |  90.000 |  3.2472 |  3.2761 | -0.0289 |  -0.882 \n",
      "0.244 | 100.000 |  5.4397 |  5.5889 | -0.1493 |  -2.671 \n",
      "0.244 | 110.000 | 10.9263 | 11.0733 | -0.1470 |  -1.327 \n",
      "0.244 | 120.000 | 19.6798 | 19.8344 | -0.1546 |  -0.779 \n",
      "0.411 |  80.000 |  3.2928 |  3.4366 | -0.1438 |  -4.183 \n",
      "0.411 |  90.000 |  5.0747 |  5.1339 | -0.0592 |  -1.152 \n",
      "0.411 | 100.000 |  7.7889 |  7.7747 |  0.0143 |   0.183 \n",
      "0.411 | 110.000 | 12.4027 | 12.5744 | -0.1717 |  -1.365 \n",
      "0.411 | 120.000 | 19.8989 | 20.1827 | -0.2838 |  -1.406 \n",
      "0.578 |  80.000 |  4.3416 |  4.5480 | -0.2064 |  -4.537 \n",
      "0.578 |  90.000 |  6.5114 |  6.7163 | -0.2049 |  -3.051 \n",
      "0.578 | 100.000 |  9.5515 |  9.6585 | -0.1070 |  -1.108 \n",
      "0.578 | 110.000 | 13.7357 | 14.1776 | -0.4420 |  -3.117 \n",
      "0.578 | 120.000 | 20.6447 | 20.9423 | -0.2976 |  -1.421 \n",
      "CPU times: user 50.3 s, sys: 14.3 s, total: 1min 4s\n",
      "Wall time: 1min 3s\n"
     ]
    }
   ],
   "source": [
    "%time valuation_benchmarking(euro_put_svjd, dx.B96_put_value)"
   ]
  },
  {
   "cell_type": "markdown",
   "metadata": {},
   "source": [
    "The Fourier-based counterpart function for **European call options** is called `B96_call_value`."
   ]
  },
  {
   "cell_type": "code",
   "execution_count": 37,
   "metadata": {
    "collapsed": false
   },
   "outputs": [
    {
     "data": {
      "text/plain": [
       "13.949764999999999"
      ]
     },
     "execution_count": 37,
     "metadata": {},
     "output_type": "execute_result"
    }
   ],
   "source": [
    "euro_call_svjd.present_value()\n",
    "  # method call needed for initialization"
   ]
  },
  {
   "cell_type": "code",
   "execution_count": 38,
   "metadata": {
    "collapsed": false
   },
   "outputs": [
    {
     "name": "stdout",
     "output_type": "stream",
     "text": [
      "   T  |  strike |     mcs |     fou |     dif |     rel\n",
      "0.244 |  80.000 | 22.1855 | 22.3587 | -0.1732 |  -0.775 \n",
      "0.244 |  90.000 | 13.3140 | 13.4953 | -0.1813 |  -1.343 \n",
      "0.244 | 100.000 |  5.7409 |  5.8325 | -0.0916 |  -1.571 \n",
      "0.244 | 110.000 |  1.2932 |  1.3411 | -0.0480 |  -3.579 \n",
      "0.244 | 120.000 |  0.1206 |  0.1266 | -0.0060 |  -4.723 \n",
      "0.411 |  80.000 | 23.5785 | 23.7647 | -0.1862 |  -0.784 \n",
      "0.411 |  90.000 | 15.2582 | 15.5030 | -0.2448 |  -1.579 \n",
      "0.411 | 100.000 |  7.9932 |  8.1848 | -0.1916 |  -2.340 \n",
      "0.411 | 110.000 |  2.9041 |  3.0255 | -0.1214 |  -4.013 \n",
      "0.411 | 120.000 |  0.6121 |  0.6749 | -0.0627 |  -9.297 \n",
      "0.578 |  80.000 | 24.7036 | 25.0091 | -0.3055 |  -1.221 \n",
      "0.578 |  90.000 | 17.0053 | 17.2351 | -0.2298 |  -1.333 \n",
      "0.578 | 100.000 |  9.9201 | 10.2349 | -0.3147 |  -3.075 \n",
      "0.578 | 110.000 |  4.5385 |  4.8117 | -0.2732 |  -5.677 \n",
      "0.578 | 120.000 |  1.4872 |  1.6340 | -0.1468 |  -8.983 \n",
      "CPU times: user 50.2 s, sys: 14.1 s, total: 1min 4s\n",
      "Wall time: 1min 3s\n"
     ]
    }
   ],
   "source": [
    "%time valuation_benchmarking(euro_call_svjd, dx.B96_call_value)"
   ]
  },
  {
   "cell_type": "markdown",
   "metadata": {},
   "source": [
    "## Sources of Errors"
   ]
  },
  {
   "cell_type": "markdown",
   "metadata": {},
   "source": [
    "Numerical methods like Monte Carlo simulation might suffer from different **sources of errors**, like for example:\n",
    "\n",
    "* **discretization error**: every **discretization of a continuous time interval**---or a continuous state space to this end---leads to a so-called discretization error\n",
    "* **approximation errors**: DX Analytics uses in several places approximative, **Euler-based discretization schemes** (e.g. for performance reasons and to allow for consistent correlation modeling) which are known to be biased\n",
    "* **numerical errors**: the approximation of a continuous probability distribution by a **finite, discrete set of (pseudo-) random numbers** introduces also errors"
   ]
  },
  {
   "cell_type": "markdown",
   "metadata": {},
   "source": [
    "**Copyright, License & Disclaimer**\n",
    "\n",
    "&copy; Dr. Yves J. Hilpisch | The Python Quants GmbH\n",
    "\n",
    "DX Analytics (the \"dx library\") is licensed under the GNU Affero General Public License\n",
    "version 3 or later (see [http://www.gnu.org/licenses/](http://www.gnu.org/licenses/)).\n",
    "\n",
    "DX Analytics comes with no representations\n",
    "or warranties, to the extent permitted by applicable law.\n",
    "\n",
    "\n",
    "<img src=\"http://hilpisch.com/tpq_logo.png\" alt=\"The Python Quants\" width=\"35%\" align=\"right\" border=\"0\"><br>\n",
    "\n",
    "[http://tpq.io](http://tpq.io) | [team@tpq.io](mailto:team@tpq.io) | [http://twitter.com/dyjh](http://twitter.com/dyjh)\n",
    "\n",
    "**Quant Platform** |\n",
    "[http://quant-platform.com](http://quant-platform.com)\n",
    "\n",
    "**Derivatives Analytics with Python (Wiley Finance)** |\n",
    "[http://derivatives-analytics-with-python.com](http://derivatives-analytics-with-python.com)\n",
    "\n",
    "**Python for Finance (O'Reilly)** |\n",
    "[http://python-for-finance.com](http://python-for-finance.com)"
   ]
  }
 ],
 "metadata": {
  "anaconda-cloud": {},
  "kernelspec": {
   "display_name": "Python [conda env:py3]",
   "language": "python",
   "name": "conda-env-py3-py"
  },
  "language_info": {
   "codemirror_mode": {
    "name": "ipython",
    "version": 3
   },
   "file_extension": ".py",
   "mimetype": "text/x-python",
   "name": "python",
   "nbconvert_exporter": "python",
   "pygments_lexer": "ipython3",
   "version": "3.5.2"
  }
 },
 "nbformat": 4,
 "nbformat_minor": 0
}
